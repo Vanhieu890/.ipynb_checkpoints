{
 "cells": [
  {
   "cell_type": "code",
   "execution_count": 3,
   "id": "bdae111d",
   "metadata": {},
   "outputs": [
    {
     "name": "stdout",
     "output_type": "stream",
     "text": [
      "{}\n",
      "Chọn để tìm kiếm:\n",
      "    1. Hiển thị danh sách\n",
      "    2. Thêm sản phẩm\n",
      "    3. Sửa tên sản phẩm\n",
      "    4. Xóa sản phẩm\n",
      "    select(1,2,3,4): 1\n",
      "Hiện không có sản phẩm nào\n"
     ]
    }
   ],
   "source": [
    "dict={}\n",
    "print(dict)\n",
    "\n",
    "def them_san_pham(dict):\n",
    "    ma_sp=input(\"Nhập mã sản phẩm mới: \")\n",
    "    ten_sp=input(\"Nhập tên sản phẩm mới: \")\n",
    "    if ma_sp in dict:\n",
    "        print(\"Sản phẩm này đã có trong danh sách\")\n",
    "    else:\n",
    "        dict[ma_sp]={\n",
    "            'ten':ten_sp\n",
    "        }\n",
    "        print(f\"Thêm thành công sản phẩm với mã: {ma_sp}\")\n",
    "def xoa_san_pham(dict):\n",
    "    ma_sp=input(\"Nhập mã sản phẩm cần xóa: \")\n",
    "    if ma_sp not in dict:\n",
    "        print(\"Sản phẩm không tồn tại: \")\n",
    "        if ma_sp not in dict:\n",
    "            print('Sản phẩm không tồn tại')\n",
    "            return\n",
    "        del dict[ma_sp]\n",
    "        print(\"Xóa thành công sản phẩm trên\")\n",
    "        \n",
    "def hien_thi_danh_sach(dict):\n",
    "    if len(dict)==0:\n",
    "        print(\"Hiện không có sản phẩm nào\")\n",
    "    else:\n",
    "        for i in dict.items():\n",
    "            print(i)\n",
    "        print()\n",
    "def sua_ten(dict):\n",
    "    ma_sp=input(\"Nhập mã sản phẩm cần sửa: \")\n",
    "    if ma_sp not in dict:\n",
    "        print(\"Sản phẩm không tồn tại\")\n",
    "        return\n",
    "    ten_sp=input(\"Nhập tên mới cho sản phẩm:\")\n",
    "    dict[ma_sp]={\n",
    "        'ten':ten_sp\n",
    "    }\n",
    "    print(f\"Cập nhật thành công sản phẩm có mã {ma_sp}\")\n",
    "\n",
    "while True:\n",
    "    chon=input(\"\"\"Chọn để tìm kiếm:\n",
    "    1. Hiển thị danh sách\n",
    "    2. Thêm sản phẩm\n",
    "    3. Sửa tên sản phẩm\n",
    "    4. Xóa sản phẩm\n",
    "    select(1,2,3,4): \"\"\")\n",
    "    if chon==\"1\":\n",
    "        hien_thi_danh_sach(dict)\n",
    "        break\n",
    "    elif chon==\"2\":\n",
    "        them_san_pham(dict)\n",
    "        break\n",
    "    elif chon==\"3\":\n",
    "        sua_ten(dict)\n",
    "        break\n",
    "    elif chon==\"4\":\n",
    "        xoa_san_pham(dict)\n",
    "        break\n",
    "    else:\n",
    "        print(\"Nhập lại\")\n",
    "     "
   ]
  },
  {
   "cell_type": "code",
   "execution_count": null,
   "id": "2e819754",
   "metadata": {},
   "outputs": [],
   "source": []
  },
  {
   "cell_type": "code",
   "execution_count": null,
   "id": "ad3f38e1",
   "metadata": {},
   "outputs": [],
   "source": []
  }
 ],
 "metadata": {
  "kernelspec": {
   "display_name": "Python 3 (ipykernel)",
   "language": "python",
   "name": "python3"
  },
  "language_info": {
   "codemirror_mode": {
    "name": "ipython",
    "version": 3
   },
   "file_extension": ".py",
   "mimetype": "text/x-python",
   "name": "python",
   "nbconvert_exporter": "python",
   "pygments_lexer": "ipython3",
   "version": "3.9.12"
  }
 },
 "nbformat": 4,
 "nbformat_minor": 5
}
