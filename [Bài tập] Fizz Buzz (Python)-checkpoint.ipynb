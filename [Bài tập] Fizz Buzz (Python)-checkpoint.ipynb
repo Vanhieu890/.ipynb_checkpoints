{
 "cells": [
  {
   "cell_type": "code",
   "execution_count": 15,
   "id": "51de1ab0",
   "metadata": {},
   "outputs": [
    {
     "name": "stdout",
     "output_type": "stream",
     "text": [
      "Nhập số đầu: 1\n",
      "Nhập số cuối: 15\n",
      "1\n",
      "2\n",
      "3 Fizz\n",
      "4\n",
      "5 Buzz\n",
      "6 Fizz\n",
      "7\n",
      "8\n",
      "9 Fizz\n",
      "10 Buzz\n",
      "11\n",
      "12 Fizz\n",
      "13\n",
      "14\n",
      "15 FizzBuzz\n"
     ]
    }
   ],
   "source": [
    "a=int(input(\"Nhập số đầu: \"))\n",
    "b=int(input(\"Nhập số cuối: \"))\n",
    "i=a\n",
    "if a<b:\n",
    "    for i in range (a,b+1):\n",
    "        if i%3==0 and i%5!=0:\n",
    "            print(i, \"Fizz\")\n",
    "        if i%5==0 and i%3!=0:\n",
    "            print(i, \"Buzz\")\n",
    "        if i%3==0 and i%5==0:\n",
    "            print(i, \"FizzBuzz\")\n",
    "            i+=1\n",
    "        else:\n",
    "            if i%3!=0 and i%5!=0:\n",
    "                print(i)\n",
    "else:\n",
    "    print(\"Nhập số cuối phải lớn hơn số đầu: \")\n",
    "        "
   ]
  },
  {
   "cell_type": "code",
   "execution_count": null,
   "id": "5407ac60",
   "metadata": {},
   "outputs": [],
   "source": []
  },
  {
   "cell_type": "code",
   "execution_count": null,
   "id": "04f474de",
   "metadata": {},
   "outputs": [],
   "source": []
  }
 ],
 "metadata": {
  "kernelspec": {
   "display_name": "Python 3 (ipykernel)",
   "language": "python",
   "name": "python3"
  },
  "language_info": {
   "codemirror_mode": {
    "name": "ipython",
    "version": 3
   },
   "file_extension": ".py",
   "mimetype": "text/x-python",
   "name": "python",
   "nbconvert_exporter": "python",
   "pygments_lexer": "ipython3",
   "version": "3.9.12"
  }
 },
 "nbformat": 4,
 "nbformat_minor": 5
}
