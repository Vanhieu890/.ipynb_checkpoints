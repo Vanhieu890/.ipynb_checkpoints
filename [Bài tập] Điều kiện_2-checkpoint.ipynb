{
 "cells": [
  {
   "cell_type": "code",
   "execution_count": 1,
   "id": "ec021cd7",
   "metadata": {},
   "outputs": [
    {
     "name": "stdout",
     "output_type": "stream",
     "text": [
      "Nhập chiều cao: 1.5\n",
      "Nhập cân nặng:55\n",
      "Bình thường\n"
     ]
    }
   ],
   "source": [
    "chieucao=float(input(\"Nhập chiều cao: \"))\n",
    "cannang=float(input(\"Nhập cân nặng:\"))\n",
    "BMI= cannang/(chieucao*chieucao)\n",
    "if BMI >=16 and BMI < 17:\n",
    "    print(\"Gầy cấp độ II\")\n",
    "elif BMI >= 17 and BMI <18.5:\n",
    "    print(\"Gầy cấp độ I\")\n",
    "elif BMI >= 18.5 and BMI <25:\n",
    "    print(\"Bình thường\")\n",
    "elif BMI >= 25 and BMI <30:\n",
    "    print(\"Thừa cân\")\n",
    "elif BMI >= 30 and BMI <35:\n",
    "    print(\"Béo phì cấp độ I\")\n",
    "elif BMI >= 35 and BMI <40:\n",
    "    print(\"Béo phì cấp độ II\")\n",
    "elif BMI >= 40:\n",
    "    print(\"Béo phì cấp độ III\")\n",
    "else:\n",
    "    print(\"Gầy cấp độ III\")"
   ]
  },
  {
   "cell_type": "code",
   "execution_count": null,
   "id": "37e15556",
   "metadata": {},
   "outputs": [],
   "source": []
  }
 ],
 "metadata": {
  "kernelspec": {
   "display_name": "Python 3 (ipykernel)",
   "language": "python",
   "name": "python3"
  },
  "language_info": {
   "codemirror_mode": {
    "name": "ipython",
    "version": 3
   },
   "file_extension": ".py",
   "mimetype": "text/x-python",
   "name": "python",
   "nbconvert_exporter": "python",
   "pygments_lexer": "ipython3",
   "version": "3.9.12"
  }
 },
 "nbformat": 4,
 "nbformat_minor": 5
}
