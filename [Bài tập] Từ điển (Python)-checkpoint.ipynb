{
 "cells": [
  {
   "cell_type": "code",
   "execution_count": 18,
   "id": "0198d25b",
   "metadata": {},
   "outputs": [
    {
     "name": "stdout",
     "output_type": "stream",
     "text": [
      "Nhập từ cần tra: màu vàng\n",
      "Từ cần tra không tồn tại\n"
     ]
    }
   ],
   "source": [
    "dict={\n",
    "    \"màu xanh\": \"blue\",\n",
    "    \"màu nâu\":\"grey\",\n",
    "    \"màu đỏ\":\"red\",\n",
    "    \"màu đen\": \"black\"\n",
    "}\n",
    "key=input(\"Nhập từ cần tra: \")\n",
    "for i in dict:\n",
    "    if i == key:\n",
    "        print(i, \"là\", dict.get(i))\n",
    "        break\n",
    "else:\n",
    "    print(\"Từ cần tra không tồn tại\")"
   ]
  },
  {
   "cell_type": "code",
   "execution_count": null,
   "id": "519de95a",
   "metadata": {},
   "outputs": [],
   "source": []
  },
  {
   "cell_type": "code",
   "execution_count": null,
   "id": "14d721f9",
   "metadata": {},
   "outputs": [],
   "source": []
  }
 ],
 "metadata": {
  "kernelspec": {
   "display_name": "Python 3 (ipykernel)",
   "language": "python",
   "name": "python3"
  },
  "language_info": {
   "codemirror_mode": {
    "name": "ipython",
    "version": 3
   },
   "file_extension": ".py",
   "mimetype": "text/x-python",
   "name": "python",
   "nbconvert_exporter": "python",
   "pygments_lexer": "ipython3",
   "version": "3.9.12"
  }
 },
 "nbformat": 4,
 "nbformat_minor": 5
}
