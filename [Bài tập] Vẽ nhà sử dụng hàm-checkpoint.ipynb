{
 "cells": [
  {
   "cell_type": "code",
   "execution_count": null,
   "id": "b11d718b",
   "metadata": {},
   "outputs": [],
   "source": [
    "import turtle\n",
    "\n",
    "def hcn(t,rong,cao,mau):\n",
    "    t.fillcolor(mau)\n",
    "    t.begin_fill()\n",
    "    for i in range(0,2):\n",
    "        t.forward(rong)\n",
    "        t.left(90)\n",
    "        t.forward(cao)\n",
    "        t.left(90)\n",
    "    t.end_fill()\n",
    "    \n",
    "def nha(t,x,y,rong,cao,mau,mau_cua_so):\n",
    "    t.penup()\n",
    "    t.goto(x,y)\n",
    "    t.pendown()\n",
    "    hcn(t,rong,cao,mau)\n",
    "    t.penup()\n",
    "    t.setheading(90)\n",
    "    t.forward(cao/4)\n",
    "    t.setheading(0)\n",
    "    t.forward(rong/4)\n",
    "    t.pendown()\n",
    "    hcn(t,rong/2,cao/3,mau_cua_so)\n",
    "\n",
    "t=turtle.Turtle()\n",
    "nha(t,-200,-200,100,200,\"red\",\"white\")\n",
    "nha(t,-100,-200,100,200,\"red\",\"white\")\n",
    "nha(t,-200,0,100,200,\"red\",\"white\")\n",
    "nha(t,-100,0,100,200,\"red\",\"white\")\n",
    "t.penup()\n",
    "t.goto(0,-200)\n",
    "t.setheading(0)\n",
    "t.pendown()\n",
    "hcn(t,200,200,\"yellow\")\n",
    "for i in range(0,2):\n",
    "    t.forward(50)\n",
    "    hcn(t,50,100,\"green\")\n",
    "turtle.done()"
   ]
  }
 ],
 "metadata": {
  "kernelspec": {
   "display_name": "Python 3 (ipykernel)",
   "language": "python",
   "name": "python3"
  },
  "language_info": {
   "codemirror_mode": {
    "name": "ipython",
    "version": 3
   },
   "file_extension": ".py",
   "mimetype": "text/x-python",
   "name": "python",
   "nbconvert_exporter": "python",
   "pygments_lexer": "ipython3",
   "version": "3.9.12"
  }
 },
 "nbformat": 4,
 "nbformat_minor": 5
}
