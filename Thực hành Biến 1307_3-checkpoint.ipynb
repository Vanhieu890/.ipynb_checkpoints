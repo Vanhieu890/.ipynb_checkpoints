{
 "cells": [
  {
   "cell_type": "code",
   "execution_count": 1,
   "id": "880744f6",
   "metadata": {},
   "outputs": [],
   "source": [
    "import turtle\n",
    "t=turtle.Turtle()\n",
    "t.penup()\n",
    "t.goto(0,75)\n",
    "t.pencolor(\"green\")\n",
    "t.fillcolor (\"green\")\n",
    "t.begin_fill()\n",
    "t.pendown()\n",
    "t.pencolor(\"red\")\n",
    "t.left(90)\n",
    "t.forward(75)\n",
    "t.left(90)\n",
    "t.forward(150)\n",
    "t.left(90)\n",
    "t.forward(150)\n",
    "t.left(90)\n",
    "t.forward(150)\n",
    "t.left(90)\n",
    "t.forward(75)\n",
    "#hinhvuong2\n",
    "t.penup()\n",
    "t.forward(115)\n",
    "t.pendown()\n",
    "t.pencolor(\"yellow\")\n",
    "t.left(90)\n",
    "t.forward(190)\n",
    "t.left(90)\n",
    "t.forward(230)\n",
    "t.left(90)\n",
    "t.forward(230)\n",
    "t.left(90)\n",
    "t.forward(230)\n",
    "t.left(90)\n",
    "t.forward(115)\n",
    "#hinhvuong3\n",
    "t.penup()\n",
    "t.forward(155)\n",
    "t.pendown()\n",
    "t.pencolor(\"blue\")\n",
    "t.left(90)\n",
    "t.forward(270)\n",
    "t.left(90)\n",
    "t.forward(310)\n",
    "t.left(90)\n",
    "t.forward(310)\n",
    "t.left(90)\n",
    "t.forward(310)\n",
    "t.left(90)\n",
    "t.forward(155)\n",
    "t.end_fill()\n",
    "turtle.done()\n",
    "\n"
   ]
  }
 ],
 "metadata": {
  "kernelspec": {
   "display_name": "Python 3 (ipykernel)",
   "language": "python",
   "name": "python3"
  },
  "language_info": {
   "codemirror_mode": {
    "name": "ipython",
    "version": 3
   },
   "file_extension": ".py",
   "mimetype": "text/x-python",
   "name": "python",
   "nbconvert_exporter": "python",
   "pygments_lexer": "ipython3",
   "version": "3.9.12"
  }
 },
 "nbformat": 4,
 "nbformat_minor": 5
}
