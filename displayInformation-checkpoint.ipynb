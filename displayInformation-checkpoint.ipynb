{
 "cells": [
  {
   "cell_type": "code",
   "execution_count": 1,
   "id": "150a7dd2",
   "metadata": {},
   "outputs": [
    {
     "name": "stdout",
     "output_type": "stream",
     "text": [
      "Nguyễn Thị Vân Hiếu\n",
      "22/02/1997\n",
      "Nguyễn Văn Linh, Nam Dương, Hải Châu, Đà Nẵng\n",
      "Trở thành chuyên viên phân tích dữ liệu\n"
     ]
    }
   ],
   "source": [
    "print(\"Nguyễn Thị Vân Hiếu\")\n",
    "print(\"22/02/1997\")\n",
    "print(\"Nguyễn Văn Linh, Nam Dương, Hải Châu, Đà Nẵng\")\n",
    "print(\"Trở thành chuyên viên phân tích dữ liệu\")"
   ]
  },
  {
   "cell_type": "code",
   "execution_count": null,
   "id": "18e1c4d3",
   "metadata": {},
   "outputs": [],
   "source": []
  }
 ],
 "metadata": {
  "kernelspec": {
   "display_name": "Python 3 (ipykernel)",
   "language": "python",
   "name": "python3"
  },
  "language_info": {
   "codemirror_mode": {
    "name": "ipython",
    "version": 3
   },
   "file_extension": ".py",
   "mimetype": "text/x-python",
   "name": "python",
   "nbconvert_exporter": "python",
   "pygments_lexer": "ipython3",
   "version": "3.9.12"
  }
 },
 "nbformat": 4,
 "nbformat_minor": 5
}
