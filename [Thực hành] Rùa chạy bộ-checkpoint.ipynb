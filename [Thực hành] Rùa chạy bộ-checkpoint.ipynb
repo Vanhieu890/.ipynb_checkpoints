{
 "cells": [
  {
   "cell_type": "code",
   "execution_count": 1,
   "id": "8179b2eb",
   "metadata": {},
   "outputs": [
    {
     "name": "stdout",
     "output_type": "stream",
     "text": [
      "7\n"
     ]
    }
   ],
   "source": [
    "import turtle as t\n",
    "import random\n",
    "import time\n",
    "\n",
    "screen =t.Screen()\n",
    "screen.setup(height=500, width=600)\n",
    "pen=t.Turtle(visible=False)\n",
    "pen.penup()\n",
    "pen.speed(0)\n",
    "pen.goto(-250,200)\n",
    "for i in range(21):\n",
    "    pen.write(i)\n",
    "    pen.forward(25)\n",
    "    \n",
    "x=-250\n",
    "pen.goto(-250,200)\n",
    "pen.right(90)\n",
    "for i in range(21):\n",
    "    for j in range(10):\n",
    "        pen.pendown()\n",
    "        pen.forward(20)\n",
    "        pen.penup()\n",
    "        pen.forward(10)\n",
    "    pen.penup()\n",
    "    pen.forward(5)\n",
    "    pen.write(i)\n",
    "    pen.goto(x+ (i+1) * 25, 200)\n",
    "all_turtles = []\n",
    "y_position = [160, 100,40,-20]\n",
    "for turtle in range(0,4):\n",
    "    turtles=t.Turtle(shape=\"turtle\")\n",
    "    turtles.penup()\n",
    "    turtles.goto(x=-250, y=y_position[turtle])\n",
    "    all_turtles.append(turtles)\n",
    "def random_walk(turtles):\n",
    "    global run\n",
    "    for index, turtle in enumerate(turtles):\n",
    "        turtle.forward(random.randint(1,10))\n",
    "        if turtle.xcor()>250:\n",
    "            run=False\n",
    "            pen.penup()\n",
    "            pen.speed(0)\n",
    "            pen.goto(-150,-200)\n",
    "            print(int(time.time() - start_time))\n",
    "            pen.write(f\"Chúc mừng rùa đã chiến thắng\")\n",
    "run=True\n",
    "start_time=int(time.time())\n",
    "while run:\n",
    "    random_walk(all_turtles)\n",
    "    \n",
    "t.exitonclick()"
   ]
  },
  {
   "cell_type": "code",
   "execution_count": null,
   "id": "81d37c0c",
   "metadata": {},
   "outputs": [],
   "source": []
  }
 ],
 "metadata": {
  "kernelspec": {
   "display_name": "Python 3 (ipykernel)",
   "language": "python",
   "name": "python3"
  },
  "language_info": {
   "codemirror_mode": {
    "name": "ipython",
    "version": 3
   },
   "file_extension": ".py",
   "mimetype": "text/x-python",
   "name": "python",
   "nbconvert_exporter": "python",
   "pygments_lexer": "ipython3",
   "version": "3.9.12"
  }
 },
 "nbformat": 4,
 "nbformat_minor": 5
}
