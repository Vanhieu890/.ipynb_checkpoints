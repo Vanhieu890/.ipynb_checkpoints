{
 "cells": [
  {
   "cell_type": "code",
   "execution_count": null,
   "id": "d1b7cd52",
   "metadata": {},
   "outputs": [],
   "source": [
    "chuoi=input(\"Nhập chuỗi:\")\n",
    "lan_lap=int(input(\"Nhập số lần lặp:\"))\n",
    "full= chuoi*lan_lap\n",
    "print(chuoi, sep='\\n')"
   ]
  },
  {
   "cell_type": "code",
   "execution_count": 3,
   "id": "7565a5a5",
   "metadata": {
    "scrolled": true
   },
   "outputs": [
    {
     "name": "stdout",
     "output_type": "stream",
     "text": [
      "Nhập chuỗi:mm\n",
      "Nhập chuỗi:mb\n",
      "mm\n",
      "mb\n"
     ]
    }
   ],
   "source": [
    "chuoi1=input(\"Nhập chuỗi:\")\n",
    "chuoi2=input(\"Nhập chuỗi:\")\n",
    "print(chuoi1,chuoi2, sep='\\n')"
   ]
  },
  {
   "cell_type": "code",
   "execution_count": null,
   "id": "27935a0e",
   "metadata": {},
   "outputs": [],
   "source": [
    "nam=int(input(\"Nhập năm:\"))\n",
    "nam_truoc=nam-1\n",
    "nam_sau=nam+1\n",
    "print(f\"Năm trước đó là:{nam_truoc}, Năm sau đó là:{nam_sau}\")"
   ]
  },
  {
   "cell_type": "code",
   "execution_count": 19,
   "id": "3b23afc8",
   "metadata": {},
   "outputs": [
    {
     "name": "stdout",
     "output_type": "stream",
     "text": [
      "Nhập chuỗi đi:Đảo ngược chị đi bae\n",
      "eab iđ ịhc cợưgn oảĐ\n"
     ]
    }
   ],
   "source": [
    "chuoi=input(\"Nhập chuỗi đi:\")\n",
    "print(''.join(reversed(chuoi)))"
   ]
  },
  {
   "cell_type": "code",
   "execution_count": 23,
   "id": "218acc9b",
   "metadata": {},
   "outputs": [
    {
     "name": "stdout",
     "output_type": "stream",
     "text": [
      "Nhập chuỗi đi:Xin chao moi nguoi\n",
      "c niX ao moi nguoi\n"
     ]
    }
   ],
   "source": [
    "chuoi=input(\"Nhập chuỗi đi:\")\n",
    "chuoi_moi=chuoi[0:5]\n",
    "chuoi_moi2=chuoi[6:None]\n",
    "print(''.join(reversed(chuoi_moi)),chuoi_moi2)"
   ]
  },
  {
   "cell_type": "code",
   "execution_count": 2,
   "id": "6423dd61",
   "metadata": {},
   "outputs": [
    {
     "name": "stdout",
     "output_type": "stream",
     "text": [
      "Nhập số đi:2\n",
      "DN\n"
     ]
    }
   ],
   "source": [
    "num = int(input(\"Nhập số đi:\"))\n",
    "if num >1 :\n",
    "   if num == 2:\n",
    "       print(\"DN\")\n",
    "   else:\n",
    "       print(\"HM\")\n",
    "else:\n",
    "   print(\"HN\")"
   ]
  },
  {
   "cell_type": "code",
   "execution_count": null,
   "id": "b5264b05",
   "metadata": {},
   "outputs": [],
   "source": []
  }
 ],
 "metadata": {
  "kernelspec": {
   "display_name": "Python 3 (ipykernel)",
   "language": "python",
   "name": "python3"
  },
  "language_info": {
   "codemirror_mode": {
    "name": "ipython",
    "version": 3
   },
   "file_extension": ".py",
   "mimetype": "text/x-python",
   "name": "python",
   "nbconvert_exporter": "python",
   "pygments_lexer": "ipython3",
   "version": "3.9.12"
  }
 },
 "nbformat": 4,
 "nbformat_minor": 5
}
