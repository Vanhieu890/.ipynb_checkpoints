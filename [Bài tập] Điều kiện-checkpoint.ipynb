{
 "cells": [
  {
   "cell_type": "code",
   "execution_count": 7,
   "id": "4a4734b7",
   "metadata": {},
   "outputs": [
    {
     "name": "stdout",
     "output_type": "stream",
     "text": [
      "Nhập vào một số nguyên: 4\n"
     ]
    },
    {
     "data": {
      "text/plain": [
       "'Đây là số chẵn'"
      ]
     },
     "execution_count": 7,
     "metadata": {},
     "output_type": "execute_result"
    }
   ],
   "source": [
    "#Nhập vào 1 số nguyên bất kì. Kiểm tra số nguyên nhập vào có chia hết cho 2 hay không?\n",
    "number = int(input(\"Nhập vào một số nguyên: \"))\n",
    "a= number%2\n",
    "\"Đây là số chẵn\" if a == 0 else \"Đây là số lẻ\""
   ]
  },
  {
   "cell_type": "code",
   "execution_count": 10,
   "id": "e9f055c8",
   "metadata": {},
   "outputs": [
    {
     "name": "stdout",
     "output_type": "stream",
     "text": [
      "Nhập vào một số nguyên: 3\n",
      "Đây là số lẻ\n"
     ]
    }
   ],
   "source": [
    "#Nhập vào 1 số nguyên bất kì. Kiểm tra số nguyên nhập vào có chia hết cho 2 hay không?\n",
    "number = float(input(\"Nhập vào một số nguyên: \"))\n",
    "a= number%2\n",
    "if a == 0:\n",
    "    print(\"Đây là số chẵn\")\n",
    "elif a==1:\n",
    "    print(\"Đây là số lẻ\")\n",
    "else:\n",
    "    print(\"không phải số tự nhiên\")"
   ]
  },
  {
   "cell_type": "code",
   "execution_count": null,
   "id": "2e2a873e",
   "metadata": {},
   "outputs": [],
   "source": []
  },
  {
   "cell_type": "code",
   "execution_count": null,
   "id": "ddbf2b26",
   "metadata": {},
   "outputs": [],
   "source": []
  }
 ],
 "metadata": {
  "kernelspec": {
   "display_name": "Python 3 (ipykernel)",
   "language": "python",
   "name": "python3"
  },
  "language_info": {
   "codemirror_mode": {
    "name": "ipython",
    "version": 3
   },
   "file_extension": ".py",
   "mimetype": "text/x-python",
   "name": "python",
   "nbconvert_exporter": "python",
   "pygments_lexer": "ipython3",
   "version": "3.9.12"
  }
 },
 "nbformat": 4,
 "nbformat_minor": 5
}
