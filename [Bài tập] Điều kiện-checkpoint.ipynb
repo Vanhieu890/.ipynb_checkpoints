{
 "cells": [
  {
   "cell_type": "code",
   "execution_count": 7,
   "id": "fb6c8d7d",
   "metadata": {},
   "outputs": [
    {
     "name": "stdout",
     "output_type": "stream",
     "text": [
      "Nhập vào một số nguyên: 4\n"
     ]
    },
    {
     "data": {
      "text/plain": [
       "'Đây là số chẵn'"
      ]
     },
     "execution_count": 7,
     "metadata": {},
     "output_type": "execute_result"
    }
   ],
   "source": [
    "#Nhập vào 1 số nguyên bất kì. Kiểm tra số nguyên nhập vào có chia hết cho 2 hay không?\n",
    "number = int(input(\"Nhập vào một số nguyên: \"))\n",
    "a= number%2\n",
    "\"Đây là số chẵn\" if a == 0 else \"Đây là số lẻ\""
   ]
  },
  {
   "cell_type": "code",
   "execution_count": 10,
   "id": "8d285e83",
   "metadata": {},
   "outputs": [
    {
     "name": "stdout",
     "output_type": "stream",
     "text": [
      "Nhập vào một số nguyên: 3\n",
      "Đây là số lẻ\n"
     ]
    }
   ],
   "source": [
    "#Nhập vào 1 số nguyên bất kì. Kiểm tra số nguyên nhập vào có chia hết cho 2 hay không?\n",
    "number = float(input(\"Nhập vào một số nguyên: \"))\n",
    "a= number%2\n",
    "if a == 0:\n",
    "    print(\"Đây là số chẵn\")\n",
    "elif a==1:\n",
    "    print(\"Đây là số lẻ\")\n",
    "else:\n",
    "    print(\"không phải số tự nhiên\")"
   ]
  },
  {
   "cell_type": "code",
   "execution_count": 13,
   "id": "f224146b",
   "metadata": {},
   "outputs": [
    {
     "name": "stdout",
     "output_type": "stream",
     "text": [
      "Nhập 1 số từ 1 đến 7: 6\n",
      "Saturday\n"
     ]
    }
   ],
   "source": [
    "#Viết chương trình yêu cầu người dùng nhập một số trong phạm vi từ 1 đến 7. Sau đó hãy in ra ngày tương ứng: \n",
    "\n",
    "#1: Monday\n",
    "\n",
    "#2: Tuesday\n",
    "\n",
    "#3: Wednesday\n",
    "\n",
    "#4: Thursday\n",
    "\n",
    "#5: Friday\n",
    "\n",
    "#6: Saturday\n",
    "\n",
    "#7: Sunday\n",
    "\n",
    "#Nếu người dùng nhập số ngoài phạm vi từ 1 đến 7 thì hãy in ra “error, out of range”.\n",
    "number=int(input(\"Nhập 1 số từ 1 đến 7: \"))\n",
    "if number == 1:\n",
    "    print(\"Monday\")\n",
    "elif number ==2:\n",
    "    print(\"Tuesday\")\n",
    "elif number ==3:\n",
    "    print(\"Wednesday\")\n",
    "elif number ==4:\n",
    "    print(\"Thursday\")\n",
    "elif number ==5:\n",
    "    print(\"Friday\")\n",
    "elif number ==6:\n",
    "    print(\"Saturday\")\n",
    "else:\n",
    "    print(\"error, out of range\")\n",
    "    "
   ]
  },
  {
   "cell_type": "code",
   "execution_count": 19,
   "id": "a7ee0d0e",
   "metadata": {},
   "outputs": [
    {
     "name": "stdout",
     "output_type": "stream",
     "text": [
      "Nhập số tiền phải thanh toán: 190\n",
      "Tổng số tiền phải thanh toán là: 140\n"
     ]
    }
   ],
   "source": [
    "#Viết chương trình hỏi người dùng đã chi bao nhiêu tiền tại cửa hàng.\n",
    "\n",
    "#Nếu họ chi ít hơn 75$, họ sẽ không được giảm giá.\n",
    "\n",
    "#Nếu họ chi 75$ trở lên, họ sẽ được giảm giá 15$.\n",
    "\n",
    "#Nếu người dùng chi từ 100$ trở lên, họ sẽ được giảm giá 25$.\n",
    "\n",
    "#Nếu người dùng chi từ 150$ trở lên, họ sẽ được giảm giá 50$.\n",
    "#Sau đó in ra tổng số tiền mà người dùng phải thanh toán.\n",
    "money=float(input(\"Nhập số tiền phải thanh toán: \"))\n",
    "if money >= 75 and money < 100:\n",
    "    print(f\"Tổng số tiền phải thanh toán là: {int(money)-15}\")\n",
    "elif money >= 100 and money < 150:\n",
    "          print(f\"Tổng số tiền phải thanh toán là: {int(money)-25}\")\n",
    "elif money >= 150:\n",
    "          print(f\"Tổng số tiền phải thanh toán là: {int(money)-50}\") \n",
    "else:\n",
    "    print(f\"Tổng số tiền phải thanh toánh là: {int(money)}\")"
   ]
  },
  {
   "cell_type": "code",
   "execution_count": null,
   "id": "420566d7",
   "metadata": {},
   "outputs": [],
   "source": []
  }
 ],
 "metadata": {
  "kernelspec": {
   "display_name": "Python 3 (ipykernel)",
   "language": "python",
   "name": "python3"
  },
  "language_info": {
   "codemirror_mode": {
    "name": "ipython",
    "version": 3
   },
   "file_extension": ".py",
   "mimetype": "text/x-python",
   "name": "python",
   "nbconvert_exporter": "python",
   "pygments_lexer": "ipython3",
   "version": "3.9.12"
  }
 },
 "nbformat": 4,
 "nbformat_minor": 5
}
