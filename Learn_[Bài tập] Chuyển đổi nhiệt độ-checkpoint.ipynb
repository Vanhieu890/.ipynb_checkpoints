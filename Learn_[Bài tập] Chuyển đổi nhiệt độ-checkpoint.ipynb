{
 "cells": [
  {
   "cell_type": "code",
   "execution_count": null,
   "id": "50a2eaf0",
   "metadata": {},
   "outputs": [],
   "source": [
    "c = int(input(\"Nhập nhiệt độ muốn quy đổi: \"))\n",
    "\n",
    "f = (9*(int(c))/5)+32\n",
    "\n",
    "print(\"Nhiệt độ quy đổi là: \",f)"
   ]
  },
  {
   "cell_type": "code",
   "execution_count": null,
   "id": "82ee3186",
   "metadata": {},
   "outputs": [],
   "source": []
  }
 ],
 "metadata": {
  "kernelspec": {
   "display_name": "Python 3 (ipykernel)",
   "language": "python",
   "name": "python3"
  },
  "language_info": {
   "codemirror_mode": {
    "name": "ipython",
    "version": 3
   },
   "file_extension": ".py",
   "mimetype": "text/x-python",
   "name": "python",
   "nbconvert_exporter": "python",
   "pygments_lexer": "ipython3",
   "version": "3.9.12"
  }
 },
 "nbformat": 4,
 "nbformat_minor": 5
}
