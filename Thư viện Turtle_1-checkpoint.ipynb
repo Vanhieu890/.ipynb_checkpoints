{
 "cells": [
  {
   "cell_type": "code",
   "execution_count": 5,
   "id": "f34c110b",
   "metadata": {},
   "outputs": [],
   "source": [
    "import turtle\n",
    "t=turtle.Turtle()\n",
    "t.forward(150)\n",
    "t.left(90)\n",
    "t.forward(150)\n",
    "t.left(90)\n",
    "t.forward(150)\n",
    "t.left(90)\n",
    "t.forward(150)\n",
    "t.left(90)\n",
    "t.up()\n",
    "t.goto(50,0)\n",
    "t.right(45)\n",
    "t.down()\n",
    "t.forward(50)\n",
    "t.left(90)\n",
    "t.forward(150)\n",
    "t.left(90)\n",
    "t.forward(150)\n",
    "t.left(90)\n",
    "t.forward(150)\n",
    "t.left(90)\n",
    "t.forward(100)\n",
    "turtle.done()"
   ]
  },
  {
   "cell_type": "code",
   "execution_count": null,
   "id": "3413686d",
   "metadata": {},
   "outputs": [],
   "source": []
  }
 ],
 "metadata": {
  "kernelspec": {
   "display_name": "Python 3 (ipykernel)",
   "language": "python",
   "name": "python3"
  },
  "language_info": {
   "codemirror_mode": {
    "name": "ipython",
    "version": 3
   },
   "file_extension": ".py",
   "mimetype": "text/x-python",
   "name": "python",
   "nbconvert_exporter": "python",
   "pygments_lexer": "ipython3",
   "version": "3.9.12"
  }
 },
 "nbformat": 4,
 "nbformat_minor": 5
}
