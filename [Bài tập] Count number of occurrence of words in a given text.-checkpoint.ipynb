{
 "cells": [
  {
   "cell_type": "code",
   "execution_count": 4,
   "id": "574993cf",
   "metadata": {},
   "outputs": [
    {
     "name": "stdout",
     "output_type": "stream",
     "text": [
      "nhập văn bản cần đếm: Xin chao moi nguoi\n",
      "Xin:1\n",
      "chao:1\n",
      "moi:1\n",
      "nguoi:1\n"
     ]
    }
   ],
   "source": [
    "chuoi=input(\"nhập văn bản cần đếm: \")\n",
    "tach_chuoi=chuoi.split()\n",
    "text_tam={}\n",
    "for text in tach_chuoi:\n",
    "    if text not in text_tam:\n",
    "        text_tam[text]=1\n",
    "    else:\n",
    "        text_tam[text]+=1\n",
    "for key,value in text_tam.items():\n",
    "    print(f\"{key}:{value}\")"
   ]
  },
  {
   "cell_type": "code",
   "execution_count": null,
   "id": "9b616334",
   "metadata": {},
   "outputs": [],
   "source": []
  }
 ],
 "metadata": {
  "kernelspec": {
   "display_name": "Python 3 (ipykernel)",
   "language": "python",
   "name": "python3"
  },
  "language_info": {
   "codemirror_mode": {
    "name": "ipython",
    "version": 3
   },
   "file_extension": ".py",
   "mimetype": "text/x-python",
   "name": "python",
   "nbconvert_exporter": "python",
   "pygments_lexer": "ipython3",
   "version": "3.9.12"
  }
 },
 "nbformat": 4,
 "nbformat_minor": 5
}
